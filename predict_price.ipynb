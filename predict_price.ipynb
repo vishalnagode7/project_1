{
 "cells": [
  {
   "cell_type": "code",
   "execution_count": 88,
   "id": "cc05f4e4-b7c0-40ff-8f3d-580d69ca9d84",
   "metadata": {},
   "outputs": [],
   "source": [
    "import numpy as np\n",
    "import pandas as pd\n",
    "import json\n",
    "import pickle"
   ]
  },
  {
   "cell_type": "code",
   "execution_count": 76,
   "id": "2e847ff4-83bb-4d4b-be17-de4463d276b5",
   "metadata": {},
   "outputs": [],
   "source": [
    "with open(\"linear_mod.pkl\",\"rb\") as file:\n",
    "    model = pickle.load(file)"
   ]
  },
  {
   "cell_type": "code",
   "execution_count": 104,
   "id": "b533d33e-955d-4e64-9377-bbbae38aa195",
   "metadata": {},
   "outputs": [],
   "source": [
    "with open(\"pro_data.json\",\"r\") as file:\n",
    "    proje = json.load(file)"
   ]
  },
  {
   "cell_type": "code",
   "execution_count": 105,
   "id": "b7459529-dc1b-4082-bcb5-2ca3beab255c",
   "metadata": {},
   "outputs": [
    {
     "data": {
      "text/plain": [
       "['age',\n",
       " 'gender',\n",
       " 'bmi',\n",
       " 'children',\n",
       " 'smoker',\n",
       " 'region_northeast',\n",
       " 'region_northwest',\n",
       " 'region_southeast',\n",
       " 'region_southwest']"
      ]
     },
     "execution_count": 105,
     "metadata": {},
     "output_type": "execute_result"
    }
   ],
   "source": [
    "# predict single row\n",
    "col_name = proje[\"columns\"]\n",
    "col_name"
   ]
  },
  {
   "cell_type": "code",
   "execution_count": 52,
   "id": "f0ab8847-3122-4aa8-b196-3c0780ee4ad4",
   "metadata": {},
   "outputs": [],
   "source": [
    "age = 19\n",
    "gender = \"female\"\n",
    "bmi = 45\n",
    "children = 2\n",
    "smoker = \"yes\"\n",
    "region = \"southwest\"\n",
    "# charges = ?"
   ]
  },
  {
   "cell_type": "code",
   "execution_count": 82,
   "id": "9fdab1cb-ba0f-4da7-bd8f-150b108986b1",
   "metadata": {},
   "outputs": [],
   "source": [
    "import json"
   ]
  },
  {
   "cell_type": "code",
   "execution_count": null,
   "id": "8d7bfba4-0c1a-4f5c-9fbb-b6b7f9858169",
   "metadata": {},
   "outputs": [],
   "source": []
  },
  {
   "cell_type": "code",
   "execution_count": null,
   "id": "eb1c6caa-8064-42ad-9bd8-96d5f95c85ab",
   "metadata": {},
   "outputs": [],
   "source": []
  },
  {
   "cell_type": "code",
   "execution_count": 111,
   "id": "95379b31-0749-463f-af87-95e74d6fc107",
   "metadata": {},
   "outputs": [],
   "source": [
    "col_name = proje[\"columns\"]\n",
    "array1 = np.array(col_name)\n",
    "arr = np.zeros(len(col_name))\n",
    "arr[0] = age\n",
    "arr[1] = proje[\"gender\"][gender]\n",
    "arr[2] = 45\n",
    "arr[3] = 2\n",
    "arr[4] = proje[\"smoker\"][smoker]\n",
    "region1 = \"region_\" + region\n",
    "re = np.where(array1 == region1)\n",
    "arr[re] = 1"
   ]
  },
  {
   "cell_type": "code",
   "execution_count": 112,
   "id": "441b67de-0a08-4acf-8ce6-3b18a6f8e232",
   "metadata": {},
   "outputs": [
    {
     "data": {
      "text/plain": [
       "array([19.,  1., 45.,  2.,  1.,  0.,  0.,  0.,  1.])"
      ]
     },
     "execution_count": 112,
     "metadata": {},
     "output_type": "execute_result"
    }
   ],
   "source": [
    "arr"
   ]
  },
  {
   "cell_type": "code",
   "execution_count": 129,
   "id": "63f50ddf-762c-4306-95f5-0d1ecccbd348",
   "metadata": {},
   "outputs": [
    {
     "name": "stderr",
     "output_type": "stream",
     "text": [
      "C:\\Users\\DELL\\AppData\\Local\\Programs\\Python\\Python313\\Lib\\site-packages\\sklearn\\utils\\validation.py:2739: UserWarning: X does not have valid feature names, but LinearRegression was fitted with feature names\n",
      "  warnings.warn(\n"
     ]
    }
   ],
   "source": [
    "premium = model.predict([arr])[0]"
   ]
  },
  {
   "cell_type": "code",
   "execution_count": 130,
   "id": "5155d08b-a48a-4467-b02b-4f3b9714f1ef",
   "metadata": {},
   "outputs": [
    {
     "name": "stdout",
     "output_type": "stream",
     "text": [
      "final predicted price [8142.65071939]\n"
     ]
    }
   ],
   "source": [
    "print (\"final predicted price\",prem)"
   ]
  },
  {
   "cell_type": "code",
   "execution_count": null,
   "id": "7a01c79f-2a8e-43f2-8d60-6606f144bb6c",
   "metadata": {},
   "outputs": [],
   "source": []
  },
  {
   "cell_type": "code",
   "execution_count": null,
   "id": "275679f5-9080-481d-9a35-245a85f0e5bb",
   "metadata": {},
   "outputs": [],
   "source": []
  },
  {
   "cell_type": "code",
   "execution_count": null,
   "id": "3bc8a192-f0ca-4793-8879-b160ba65a847",
   "metadata": {},
   "outputs": [],
   "source": []
  },
  {
   "cell_type": "code",
   "execution_count": null,
   "id": "37707b4f-b0fc-4402-958f-aef711fade12",
   "metadata": {},
   "outputs": [],
   "source": []
  },
  {
   "cell_type": "code",
   "execution_count": null,
   "id": "52dec54c-4b0d-4d81-8b40-a5841715b197",
   "metadata": {},
   "outputs": [],
   "source": []
  }
 ],
 "metadata": {
  "kernelspec": {
   "display_name": "Python 3 (ipykernel)",
   "language": "python",
   "name": "python3"
  },
  "language_info": {
   "codemirror_mode": {
    "name": "ipython",
    "version": 3
   },
   "file_extension": ".py",
   "mimetype": "text/x-python",
   "name": "python",
   "nbconvert_exporter": "python",
   "pygments_lexer": "ipython3",
   "version": "3.13.1"
  }
 },
 "nbformat": 4,
 "nbformat_minor": 5
}
